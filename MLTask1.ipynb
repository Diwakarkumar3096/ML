{
  "nbformat": 4,
  "nbformat_minor": 0,
  "metadata": {
    "colab": {
      "name": "Untitled3.ipynb",
      "version": "0.3.2",
      "provenance": []
    },
    "kernelspec": {
      "name": "python3",
      "display_name": "Python 3"
    }
  },
  "cells": [
    {
      "cell_type": "code",
      "metadata": {
        "id": "TJR7-FZBpQ-d",
        "colab_type": "code",
        "colab": {
          "base_uri": "https://localhost:8080/",
          "height": 194
        },
        "outputId": "efc5a6eb-cb4d-40aa-dd03-a3ae72cb9404"
      },
      "source": [
        "import numpy as np\n",
        "from numpy.random import randint #importing random integer generating fun from numpy.random\n",
        "\n",
        "arr1=np.random.randint(1,50,(3,2)) #this will create a 3*2 matrix with random no in between 1-50\n",
        "arr2=np.random.randint(1,50,(6,7)) #this will create a 6*7 matrix with random no in between 1-50\n",
        "\n",
        "np.save(\"array1\",arr1)\n",
        "np.save(\"array2\",arr2)\n"
      ],
      "execution_count": 18,
      "outputs": [
        {
          "output_type": "stream",
          "text": [
            "[[33  9]\n",
            " [30  9]\n",
            " [19 13]]\n",
            "\n",
            " [[ 4  4 32 49 43 43 33]\n",
            " [10  7 44 17 14 45 22]\n",
            " [24 36 40 19 35 35 37]\n",
            " [29  3 40  7  7 49 35]\n",
            " [43  3 27 48 24 48 30]\n",
            " [12 44 13 35 36 42 36]]\n"
          ],
          "name": "stdout"
        }
      ]
    },
    {
      "cell_type": "code",
      "metadata": {
        "id": "EBrid9b9poNT",
        "colab_type": "code",
        "colab": {}
      },
      "source": [
        ""
      ],
      "execution_count": 0,
      "outputs": []
    }
  ]
}