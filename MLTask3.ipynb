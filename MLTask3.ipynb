{
  "nbformat": 4,
  "nbformat_minor": 0,
  "metadata": {
    "colab": {
      "name": "Untitled3.ipynb",
      "version": "0.3.2",
      "provenance": [],
      "include_colab_link": true
    },
    "kernelspec": {
      "name": "python3",
      "display_name": "Python 3"
    }
  },
  "cells": [
    {
      "cell_type": "markdown",
      "metadata": {
        "id": "view-in-github",
        "colab_type": "text"
      },
      "source": [
        "<a href=\"https://colab.research.google.com/github/hsinha177/ML/blob/master/MLTask3.ipynb\" target=\"_parent\"><img src=\"https://colab.research.google.com/assets/colab-badge.svg\" alt=\"Open In Colab\"/></a>"
      ]
    },
    {
      "cell_type": "code",
      "metadata": {
        "id": "JZSVui6e7Gfv",
        "colab_type": "code",
        "colab": {
          "base_uri": "https://localhost:8080/",
          "height": 158
        },
        "outputId": "9d3c3eec-aa19-4642-f2ca-2ea6b2420eb5"
      },
      "source": [
        "import numpy as np  #importing numpy module as np object\n",
        "\n",
        "ip=(np.arange(101,199,5))  #generating numbers between 100-200 with uniform interval of 5\n",
        "\n",
        "arr=(ip[0:16].reshape(8,2))  #reshaping input(ip) as 8*2 array(arr)"
      ],
      "execution_count": 42,
      "outputs": [
        {
          "output_type": "stream",
          "text": [
            "[[101 106]\n",
            " [111 116]\n",
            " [121 126]\n",
            " [131 136]\n",
            " [141 146]\n",
            " [151 156]\n",
            " [161 166]\n",
            " [171 176]]\n"
          ],
          "name": "stdout"
        }
      ]
    },
    {
      "cell_type": "code",
      "metadata": {
        "id": "iYtDLgxw70p8",
        "colab_type": "code",
        "colab": {}
      },
      "source": [
        ""
      ],
      "execution_count": 0,
      "outputs": []
    }
  ]
}