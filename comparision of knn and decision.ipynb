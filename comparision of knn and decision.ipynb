{
  "nbformat": 4,
  "nbformat_minor": 0,
  "metadata": {
    "colab": {
      "name": "Untitled33.ipynb",
      "version": "0.3.2",
      "provenance": [],
      "include_colab_link": true
    },
    "kernelspec": {
      "name": "python3",
      "display_name": "Python 3"
    }
  },
  "cells": [
    {
      "cell_type": "markdown",
      "metadata": {
        "id": "view-in-github",
        "colab_type": "text"
      },
      "source": [
        "<a href=\"https://colab.research.google.com/github/Diwakarkumar3096/ML/blob/master/comparision%20of%20knn%20and%20decision.ipynb\" target=\"_parent\"><img src=\"https://colab.research.google.com/assets/colab-badge.svg\" alt=\"Open In Colab\"/></a>"
      ]
    },
    {
      "cell_type": "code",
      "metadata": {
        "id": "u4HM7Wx2j8ym",
        "colab_type": "code",
        "colab": {}
      },
      "source": [
        "#loading iris data set\n",
        "from sklearn.datasets import load_iris"
      ],
      "execution_count": 0,
      "outputs": []
    },
    {
      "cell_type": "code",
      "metadata": {
        "id": "HQDqNDXukT0A",
        "colab_type": "code",
        "colab": {}
      },
      "source": [
        "#loading into avariable \n",
        "iris_data=load_iris()"
      ],
      "execution_count": 0,
      "outputs": []
    },
    {
      "cell_type": "code",
      "metadata": {
        "id": "6XNYhW_Ikltr",
        "colab_type": "code",
        "colab": {
          "base_uri": "https://localhost:8080/",
          "height": 34
        },
        "outputId": "0ec56a7c-f5a0-46f6-9f7e-2bdd2705ffef"
      },
      "source": [
        "dir(iris_data)"
      ],
      "execution_count": 6,
      "outputs": [
        {
          "output_type": "execute_result",
          "data": {
            "text/plain": [
              "['DESCR', 'data', 'feature_names', 'filename', 'target', 'target_names']"
            ]
          },
          "metadata": {
            "tags": []
          },
          "execution_count": 6
        }
      ]
    },
    {
      "cell_type": "code",
      "metadata": {
        "id": "Hqj6MLEGkrHn",
        "colab_type": "code",
        "colab": {
          "base_uri": "https://localhost:8080/",
          "height": 34
        },
        "outputId": "a63eccae-c912-460c-8b76-673b4519c516"
      },
      "source": [
        "#target output value--\n",
        "iris_data.target_names"
      ],
      "execution_count": 8,
      "outputs": [
        {
          "output_type": "execute_result",
          "data": {
            "text/plain": [
              "array(['setosa', 'versicolor', 'virginica'], dtype='<U10')"
            ]
          },
          "metadata": {
            "tags": []
          },
          "execution_count": 8
        }
      ]
    },
    {
      "cell_type": "code",
      "metadata": {
        "id": "s4jUKjQilJsZ",
        "colab_type": "code",
        "colab": {
          "base_uri": "https://localhost:8080/",
          "height": 84
        },
        "outputId": "f7fbff24-f92c-4c35-e56e-129ef0163354"
      },
      "source": [
        "#now attributes of features of given data\n",
        "iris_data.feature_names"
      ],
      "execution_count": 12,
      "outputs": [
        {
          "output_type": "execute_result",
          "data": {
            "text/plain": [
              "['sepal length (cm)',\n",
              " 'sepal width (cm)',\n",
              " 'petal length (cm)',\n",
              " 'petal width (cm)']"
            ]
          },
          "metadata": {
            "tags": []
          },
          "execution_count": 12
        }
      ]
    },
    {
      "cell_type": "code",
      "metadata": {
        "id": "9fRyH0Ntlwhd",
        "colab_type": "code",
        "colab": {}
      },
      "source": [
        "#data with attributes--\n",
        "iris_features=iris_data.data"
      ],
      "execution_count": 0,
      "outputs": []
    },
    {
      "cell_type": "code",
      "metadata": {
        "id": "StDI9mgsmMZe",
        "colab_type": "code",
        "colab": {}
      },
      "source": [
        "#extracting label as per features\n",
        "label=iris_data.target"
      ],
      "execution_count": 0,
      "outputs": []
    },
    {
      "cell_type": "markdown",
      "metadata": {
        "id": "s3NkWnAYmsKX",
        "colab_type": "text"
      },
      "source": [
        "#showing graph"
      ]
    },
    {
      "cell_type": "code",
      "metadata": {
        "id": "dMYKRxYEmm8x",
        "colab_type": "code",
        "colab": {}
      },
      "source": [
        "#put your code for graphs"
      ],
      "execution_count": 0,
      "outputs": []
    },
    {
      "cell_type": "code",
      "metadata": {
        "id": "MNx1K_xIm0Aq",
        "colab_type": "code",
        "colab": {}
      },
      "source": [
        "#step data into traing and testing\n",
        "from sklearn.model_selection import train_test_split"
      ],
      "execution_count": 0,
      "outputs": []
    },
    {
      "cell_type": "code",
      "metadata": {
        "id": "C4YccFjjm-Y9",
        "colab_type": "code",
        "colab": {}
      },
      "source": [
        "#help(train_test_split)\n",
        "train_data,test_data,train_label,test_label=train_test_split(iris_features,label,test_size=0.2)"
      ],
      "execution_count": 0,
      "outputs": []
    },
    {
      "cell_type": "code",
      "metadata": {
        "id": "KWJiRxemoJsk",
        "colab_type": "code",
        "colab": {}
      },
      "source": [
        "#import KNN clf\n",
        "from sklearn.neighbors import KNeighborsClassifier"
      ],
      "execution_count": 0,
      "outputs": []
    },
    {
      "cell_type": "code",
      "metadata": {
        "id": "3Dx2xunjo-0R",
        "colab_type": "code",
        "colab": {}
      },
      "source": [
        " kclf=KNeighborsClassifier(n_neighbors=5) #this is by deafault value of K"
      ],
      "execution_count": 0,
      "outputs": []
    },
    {
      "cell_type": "code",
      "metadata": {
        "id": "jJckqVSLsb1T",
        "colab_type": "code",
        "colab": {}
      },
      "source": [
        "ktrained=kclf.fit(train_data,train_label) #appling traing data"
      ],
      "execution_count": 0,
      "outputs": []
    },
    {
      "cell_type": "code",
      "metadata": {
        "id": "M8ZNIlKdss3N",
        "colab_type": "code",
        "colab": {}
      },
      "source": [
        "predict_output=ktrained.predict(test_data) #now time for peediction"
      ],
      "execution_count": 0,
      "outputs": []
    },
    {
      "cell_type": "code",
      "metadata": {
        "id": "v1kSWPXBtSza",
        "colab_type": "code",
        "colab": {
          "base_uri": "https://localhost:8080/",
          "height": 50
        },
        "outputId": "8104a3e0-dc64-408b-ed91-eccad766eebc"
      },
      "source": [
        "predict_output"
      ],
      "execution_count": 42,
      "outputs": [
        {
          "output_type": "execute_result",
          "data": {
            "text/plain": [
              "array([1, 1, 1, 2, 1, 2, 0, 1, 2, 0, 1, 1, 2, 2, 2, 0, 2, 0, 0, 0, 0, 2,\n",
              "       2, 0, 1, 0, 0, 2, 0, 2])"
            ]
          },
          "metadata": {
            "tags": []
          },
          "execution_count": 42
        }
      ]
    },
    {
      "cell_type": "code",
      "metadata": {
        "id": "XC2pg_9HtcRT",
        "colab_type": "code",
        "colab": {
          "base_uri": "https://localhost:8080/",
          "height": 50
        },
        "outputId": "1f6b92d1-3c47-447f-c94e-a60b33810d0f"
      },
      "source": [
        "test_label"
      ],
      "execution_count": 43,
      "outputs": [
        {
          "output_type": "execute_result",
          "data": {
            "text/plain": [
              "array([2, 1, 1, 2, 1, 2, 0, 1, 2, 0, 1, 1, 2, 2, 2, 0, 2, 0, 0, 0, 0, 2,\n",
              "       2, 0, 2, 0, 0, 2, 0, 2])"
            ]
          },
          "metadata": {
            "tags": []
          },
          "execution_count": 43
        }
      ]
    },
    {
      "cell_type": "code",
      "metadata": {
        "id": "-mQn4v2xtloq",
        "colab_type": "code",
        "colab": {}
      },
      "source": [
        "from sklearn.metrics import accuracy_score #calculating accuracy score"
      ],
      "execution_count": 0,
      "outputs": []
    },
    {
      "cell_type": "code",
      "metadata": {
        "id": "QoZAcoqHt7OA",
        "colab_type": "code",
        "colab": {
          "base_uri": "https://localhost:8080/",
          "height": 34
        },
        "outputId": "81f8fdaf-5f41-411f-f7e7-4a7cc536db9a"
      },
      "source": [
        "acrknn=accuracy_score(test_label,predict_output)\n",
        "acrknn"
      ],
      "execution_count": 47,
      "outputs": [
        {
          "output_type": "execute_result",
          "data": {
            "text/plain": [
              "0.9333333333333333"
            ]
          },
          "metadata": {
            "tags": []
          },
          "execution_count": 47
        }
      ]
    },
    {
      "cell_type": "code",
      "metadata": {
        "id": "5ZcfBolDudMg",
        "colab_type": "code",
        "colab": {}
      },
      "source": [
        "#calling decision tree clf\n",
        "from sklearn.tree import DecisionTreeClassifier\n",
        "dclf=DecisionTreeClassifier()"
      ],
      "execution_count": 0,
      "outputs": []
    },
    {
      "cell_type": "code",
      "metadata": {
        "id": "acYU8cRWuz_i",
        "colab_type": "code",
        "colab": {}
      },
      "source": [
        "#training decision tree\n",
        "dtrained=dclf.fit(train_data,train_label)"
      ],
      "execution_count": 0,
      "outputs": []
    },
    {
      "cell_type": "code",
      "metadata": {
        "id": "bFu4oI1uvVhc",
        "colab_type": "code",
        "colab": {}
      },
      "source": [
        "#now predicting\n",
        "dprediction=dtrained.predict(test_data)"
      ],
      "execution_count": 0,
      "outputs": []
    },
    {
      "cell_type": "code",
      "metadata": {
        "id": "J8F3v9Yivj4g",
        "colab_type": "code",
        "colab": {
          "base_uri": "https://localhost:8080/",
          "height": 34
        },
        "outputId": "bbefa286-9f0a-4467-9c88-a23f886c417c"
      },
      "source": [
        "#now accuracy for decision\n",
        "dacr=accuracy_score(test_label,dprediction)\n",
        "dacr\n"
      ],
      "execution_count": 53,
      "outputs": [
        {
          "output_type": "execute_result",
          "data": {
            "text/plain": [
              "0.9333333333333333"
            ]
          },
          "metadata": {
            "tags": []
          },
          "execution_count": 53
        }
      ]
    },
    {
      "cell_type": "code",
      "metadata": {
        "id": "N3Zmh6e2wDI6",
        "colab_type": "code",
        "colab": {}
      },
      "source": [
        "#compare decision and KNN\n",
        "import matplotlib.pyplot as plt"
      ],
      "execution_count": 0,
      "outputs": []
    },
    {
      "cell_type": "code",
      "metadata": {
        "id": "qWajlee4w4aP",
        "colab_type": "code",
        "colab": {}
      },
      "source": [
        ""
      ],
      "execution_count": 0,
      "outputs": []
    }
  ]
}