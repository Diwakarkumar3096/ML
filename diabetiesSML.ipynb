{
  "nbformat": 4,
  "nbformat_minor": 0,
  "metadata": {
    "colab": {
      "name": "diabetiesSML.ipynb",
      "version": "0.3.2",
      "provenance": []
    },
    "kernelspec": {
      "name": "python3",
      "display_name": "Python 3"
    }
  },
  "cells": [
    {
      "cell_type": "code",
      "metadata": {
        "id": "APdqCxP-xGpN",
        "colab_type": "code",
        "colab": {}
      },
      "source": [
        "from sklearn.datasets import load_diabetes\n",
        "from sklearn.metrics import accuracy_score\n",
        "from sklearn.model_selection import train_test_split\n",
        "from sklearn.tree import DecisionTreeClassifier"
      ],
      "execution_count": 0,
      "outputs": []
    },
    {
      "cell_type": "markdown",
      "metadata": {
        "id": "aHUr6RxhxHtD",
        "colab_type": "text"
      },
      "source": [
        "importing file of diabeties\n"
      ]
    },
    {
      "cell_type": "code",
      "metadata": {
        "id": "0rMkBD5HxwJ-",
        "colab_type": "code",
        "colab": {}
      },
      "source": [
        "ds=load_diabetes()"
      ],
      "execution_count": 0,
      "outputs": []
    },
    {
      "cell_type": "code",
      "metadata": {
        "id": "uWZjFN1jx0qK",
        "colab_type": "code",
        "colab": {
          "base_uri": "https://localhost:8080/",
          "height": 119
        },
        "outputId": "182e8d49-a52b-4f86-e0eb-75781efbd91e"
      },
      "source": [
        "dir(ds)"
      ],
      "execution_count": 3,
      "outputs": [
        {
          "output_type": "execute_result",
          "data": {
            "text/plain": [
              "['DESCR',\n",
              " 'data',\n",
              " 'data_filename',\n",
              " 'feature_names',\n",
              " 'target',\n",
              " 'target_filename']"
            ]
          },
          "metadata": {
            "tags": []
          },
          "execution_count": 3
        }
      ]
    },
    {
      "cell_type": "code",
      "metadata": {
        "id": "B4T7Egmwx2A6",
        "colab_type": "code",
        "colab": {}
      },
      "source": [
        "feature=ds.data"
      ],
      "execution_count": 0,
      "outputs": []
    },
    {
      "cell_type": "code",
      "metadata": {
        "id": "WAJTQqtHx7Zg",
        "colab_type": "code",
        "colab": {}
      },
      "source": [
        "label=ds.target"
      ],
      "execution_count": 0,
      "outputs": []
    },
    {
      "cell_type": "code",
      "metadata": {
        "id": "VP2IjKHyx_Nm",
        "colab_type": "code",
        "colab": {}
      },
      "source": [
        "train_data,test_data,train_label,test_label=train_test_split(feature,label,test_size=0.1)"
      ],
      "execution_count": 0,
      "outputs": []
    },
    {
      "cell_type": "code",
      "metadata": {
        "id": "lGjrPWrOyNhI",
        "colab_type": "code",
        "colab": {}
      },
      "source": [
        "clf=DecisionTreeClassifier()"
      ],
      "execution_count": 0,
      "outputs": []
    },
    {
      "cell_type": "code",
      "metadata": {
        "id": "-TeNkgqzyP3D",
        "colab_type": "code",
        "colab": {}
      },
      "source": [
        "train=clf.fit(train_data,train_label)"
      ],
      "execution_count": 0,
      "outputs": []
    },
    {
      "cell_type": "code",
      "metadata": {
        "id": "eBjIZM3lyVkL",
        "colab_type": "code",
        "colab": {}
      },
      "source": [
        "predct=train.predict(test_data)"
      ],
      "execution_count": 0,
      "outputs": []
    },
    {
      "cell_type": "code",
      "metadata": {
        "id": "fSg36-yrydbi",
        "colab_type": "code",
        "colab": {
          "base_uri": "https://localhost:8080/",
          "height": 102
        },
        "outputId": "e1ea0b59-8067-48e8-cca8-3954d2e4e528"
      },
      "source": [
        "predct"
      ],
      "execution_count": 18,
      "outputs": [
        {
          "output_type": "execute_result",
          "data": {
            "text/plain": [
              "array([111., 214.,  53., 232.,  85., 111.,  67., 107., 252., 306.,  71.,\n",
              "        74.,  53., 215.,  77.,  50.,  84., 128.,  95., 141., 150.,  85.,\n",
              "        59., 147., 111., 143., 175.,  63., 185.,  68., 232.,  57., 160.,\n",
              "       134., 153., 132.,  68., 276., 115.,  69.,  71.,  64.,  53., 138.,\n",
              "        63.])"
            ]
          },
          "metadata": {
            "tags": []
          },
          "execution_count": 18
        }
      ]
    },
    {
      "cell_type": "code",
      "metadata": {
        "id": "CyVgKNCAyfGK",
        "colab_type": "code",
        "colab": {
          "base_uri": "https://localhost:8080/",
          "height": 102
        },
        "outputId": "e483dcf9-9f36-446a-b8ae-7f18020f61ba"
      },
      "source": [
        "test_label"
      ],
      "execution_count": 19,
      "outputs": [
        {
          "output_type": "execute_result",
          "data": {
            "text/plain": [
              "array([ 55.,  93.,  91., 220., 137., 131.,  85., 142.,  42., 268.,  98.,\n",
              "       162., 154., 295.,  64., 135.,  74.,  90.,  51.,  59., 139.,  55.,\n",
              "        48., 184., 262.,  99., 166.,  75., 127., 233., 195.,  49., 168.,\n",
              "        51., 111., 161., 137., 283.,  77., 145.,  40.,  51.,  75., 245.,\n",
              "        96.])"
            ]
          },
          "metadata": {
            "tags": []
          },
          "execution_count": 19
        }
      ]
    },
    {
      "cell_type": "code",
      "metadata": {
        "id": "_uM21kANyiD9",
        "colab_type": "code",
        "colab": {
          "base_uri": "https://localhost:8080/",
          "height": 34
        },
        "outputId": "2dc05039-4ee5-4300-8f51-aa7fa57f7c1a"
      },
      "source": [
        "accuracy_score(test_label,predct)"
      ],
      "execution_count": 20,
      "outputs": [
        {
          "output_type": "execute_result",
          "data": {
            "text/plain": [
              "0.0"
            ]
          },
          "metadata": {
            "tags": []
          },
          "execution_count": 20
        }
      ]
    },
    {
      "cell_type": "code",
      "metadata": {
        "id": "WO-pPwfSyr7a",
        "colab_type": "code",
        "colab": {}
      },
      "source": [
        ""
      ],
      "execution_count": 0,
      "outputs": []
    }
  ]
}