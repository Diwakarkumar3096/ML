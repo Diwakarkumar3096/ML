{
  "nbformat": 4,
  "nbformat_minor": 0,
  "metadata": {
    "colab": {
      "name": "Untitled61.ipynb",
      "version": "0.3.2",
      "provenance": [],
      "include_colab_link": true
    },
    "kernelspec": {
      "name": "python3",
      "display_name": "Python 3"
    }
  },
  "cells": [
    {
      "cell_type": "markdown",
      "metadata": {
        "id": "view-in-github",
        "colab_type": "text"
      },
      "source": [
        "<a href=\"https://colab.research.google.com/github/Diwakarkumar3096/ML/blob/master/nlp.ipynb\" target=\"_parent\"><img src=\"https://colab.research.google.com/assets/colab-badge.svg\" alt=\"Open In Colab\"/></a>"
      ]
    },
    {
      "cell_type": "markdown",
      "metadata": {
        "id": "yiUm16M2ho7t",
        "colab_type": "text"
      },
      "source": [
        "#nlp_example"
      ]
    },
    {
      "cell_type": "code",
      "metadata": {
        "id": "rDK5QzEThn6f",
        "colab_type": "code",
        "colab": {
          "base_uri": "https://localhost:8080/",
          "height": 52
        },
        "outputId": "0919cdc6-f435-4ae5-d508-e481e9856f04"
      },
      "source": [
        "from nltk.corpus import wordnet\n",
        "import nltk\n",
        "nltk.download('wordnet')\n",
        "import time\n"
      ],
      "execution_count": 21,
      "outputs": [
        {
          "output_type": "stream",
          "text": [
            "[nltk_data] Downloading package wordnet to /root/nltk_data...\n",
            "[nltk_data]   Package wordnet is already up-to-date!\n"
          ],
          "name": "stdout"
        }
      ]
    },
    {
      "cell_type": "code",
      "metadata": {
        "id": "FAn2shmCh5kb",
        "colab_type": "code",
        "colab": {}
      },
      "source": [
        "ws=wordnet.synsets('work')#lemma word pass\n",
        "\n"
      ],
      "execution_count": 0,
      "outputs": []
    },
    {
      "cell_type": "code",
      "metadata": {
        "id": "On4k3xgXiFvI",
        "colab_type": "code",
        "colab": {
          "base_uri": "https://localhost:8080/",
          "height": 34
        },
        "outputId": "3236789f-4f87-4a75-ab1a-098c03dea767"
      },
      "source": [
        "len(ws)"
      ],
      "execution_count": 23,
      "outputs": [
        {
          "output_type": "execute_result",
          "data": {
            "text/plain": [
              "34"
            ]
          },
          "metadata": {
            "tags": []
          },
          "execution_count": 23
        }
      ]
    },
    {
      "cell_type": "code",
      "metadata": {
        "id": "1BXPyW6JiKuN",
        "colab_type": "code",
        "colab": {
          "base_uri": "https://localhost:8080/",
          "height": 34
        },
        "outputId": "b12bd485-c953-4675-d074-91a7accef4c5"
      },
      "source": [
        "ws[0].definition()\n"
      ],
      "execution_count": 24,
      "outputs": [
        {
          "output_type": "execute_result",
          "data": {
            "text/plain": [
              "'activity directed toward making or doing something'"
            ]
          },
          "metadata": {
            "tags": []
          },
          "execution_count": 24
        }
      ]
    },
    {
      "cell_type": "code",
      "metadata": {
        "id": "Ms60Ifoaiyuw",
        "colab_type": "code",
        "colab": {
          "base_uri": "https://localhost:8080/",
          "height": 34
        },
        "outputId": "7e8f2a87-f1b6-4abe-b1b7-7e57895d48f2"
      },
      "source": [
        "ws[0].examples()"
      ],
      "execution_count": 25,
      "outputs": [
        {
          "output_type": "execute_result",
          "data": {
            "text/plain": [
              "['she checked several points needing further work']"
            ]
          },
          "metadata": {
            "tags": []
          },
          "execution_count": 25
        }
      ]
    },
    {
      "cell_type": "code",
      "metadata": {
        "id": "Gy4YsJt3jXGW",
        "colab_type": "code",
        "colab": {
          "base_uri": "https://localhost:8080/",
          "height": 105
        },
        "outputId": "b14d3ba4-0df4-400f-ab82-818118373b07"
      },
      "source": [
        "ws[1].examples()"
      ],
      "execution_count": 26,
      "outputs": [
        {
          "output_type": "execute_result",
          "data": {
            "text/plain": [
              "['it is not regarded as one of his more memorable works',\n",
              " 'the symphony was hailed as an ingenious work',\n",
              " 'he was indebted to the pioneering work of John Dewey',\n",
              " 'the work of an active imagination',\n",
              " 'erosion is the work of wind or water over time']"
            ]
          },
          "metadata": {
            "tags": []
          },
          "execution_count": 26
        }
      ]
    },
    {
      "cell_type": "code",
      "metadata": {
        "id": "DifPMdF-jdbx",
        "colab_type": "code",
        "colab": {
          "base_uri": "https://localhost:8080/",
          "height": 738
        },
        "outputId": "917fccd9-979a-49ca-9c49-b23ee7452191"
      },
      "source": [
        "#exploring all books\n",
        "msg=input(\"enter your keyword you want to know about\") \n",
        "for i in wordnet.synsets(msg):\n",
        "  print(\"_____________\")\n",
        "  print(i.definition)\n",
        "  print(\"_____________\")\n",
        "  print(i.examples)\n",
        "  time.sleep(1)"
      ],
      "execution_count": 27,
      "outputs": [
        {
          "output_type": "stream",
          "text": [
            "enter your keyword you want to know aboutlove\n",
            "_____________\n",
            "<bound method Synset.definition of Synset('love.n.01')>\n",
            "_____________\n",
            "<bound method Synset.examples of Synset('love.n.01')>\n",
            "_____________\n",
            "<bound method Synset.definition of Synset('love.n.02')>\n",
            "_____________\n",
            "<bound method Synset.examples of Synset('love.n.02')>\n",
            "_____________\n",
            "<bound method Synset.definition of Synset('beloved.n.01')>\n",
            "_____________\n",
            "<bound method Synset.examples of Synset('beloved.n.01')>\n",
            "_____________\n",
            "<bound method Synset.definition of Synset('love.n.04')>\n",
            "_____________\n",
            "<bound method Synset.examples of Synset('love.n.04')>\n",
            "_____________\n",
            "<bound method Synset.definition of Synset('love.n.05')>\n",
            "_____________\n",
            "<bound method Synset.examples of Synset('love.n.05')>\n",
            "_____________\n",
            "<bound method Synset.definition of Synset('sexual_love.n.02')>\n",
            "_____________\n",
            "<bound method Synset.examples of Synset('sexual_love.n.02')>\n",
            "_____________\n",
            "<bound method Synset.definition of Synset('love.v.01')>\n",
            "_____________\n",
            "<bound method Synset.examples of Synset('love.v.01')>\n",
            "_____________\n",
            "<bound method Synset.definition of Synset('love.v.02')>\n",
            "_____________\n",
            "<bound method Synset.examples of Synset('love.v.02')>\n",
            "_____________\n",
            "<bound method Synset.definition of Synset('love.v.03')>\n",
            "_____________\n",
            "<bound method Synset.examples of Synset('love.v.03')>\n",
            "_____________\n",
            "<bound method Synset.definition of Synset('sleep_together.v.01')>\n",
            "_____________\n",
            "<bound method Synset.examples of Synset('sleep_together.v.01')>\n"
          ],
          "name": "stdout"
        }
      ]
    },
    {
      "cell_type": "code",
      "metadata": {
        "id": "upP3XaUhj1qq",
        "colab_type": "code",
        "colab": {}
      },
      "source": [
        ""
      ],
      "execution_count": 0,
      "outputs": []
    }
  ]
}