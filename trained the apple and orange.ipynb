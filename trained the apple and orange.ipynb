{
  "nbformat": 4,
  "nbformat_minor": 0,
  "metadata": {
    "colab": {
      "name": "Untitled38.ipynb",
      "version": "0.3.2",
      "provenance": [],
      "include_colab_link": true
    },
    "kernelspec": {
      "name": "python3",
      "display_name": "Python 3"
    }
  },
  "cells": [
    {
      "cell_type": "markdown",
      "metadata": {
        "id": "view-in-github",
        "colab_type": "text"
      },
      "source": [
        "<a href=\"https://colab.research.google.com/github/Diwakarkumar3096/ML/blob/master/trained%20the%20apple%20and%20orange.ipynb\" target=\"_parent\"><img src=\"https://colab.research.google.com/assets/colab-badge.svg\" alt=\"Open In Colab\"/></a>"
      ]
    },
    {
      "cell_type": "code",
      "metadata": {
        "id": "X6gsRZ6rl9Jb",
        "colab_type": "code",
        "colab": {}
      },
      "source": [
        "  import numpy as np\n",
        "  import pandas as pd\n",
        "  from sklearn.tree import DecisionTreeClassifier #decisionTree classifier only"
      ],
      "execution_count": 0,
      "outputs": []
    },
    {
      "cell_type": "code",
      "metadata": {
        "id": "t8aZzwdznkzf",
        "colab_type": "code",
        "colab": {}
      },
      "source": [
        "#this is for apple and orrange\n",
        "#here smooth is for apple and bumpy is for orange\n",
        "features=[[100,0],[120,0],[130,1],[150,1]]\n",
        "##here 0 means smooth and 1 means bumpy\n",
        "\n"
      ],
      "execution_count": 0,
      "outputs": []
    },
    {
      "cell_type": "code",
      "metadata": {
        "id": "4x9IwfkCon6T",
        "colab_type": "code",
        "colab": {}
      },
      "source": [
        "#now answers accordingly\n",
        "label=[\"apply\",\"apple\",\"orange\",\"orange\"]"
      ],
      "execution_count": 0,
      "outputs": []
    },
    {
      "cell_type": "code",
      "metadata": {
        "id": "zVVtVyQ1p-pH",
        "colab_type": "code",
        "colab": {
          "base_uri": "https://localhost:8080/",
          "height": 34
        },
        "outputId": "61779281-00d8-4244-8a82-4e4ddcd6ea83"
      },
      "source": [
        "#calling decision tree classifier\n",
        "clf=DecisionTreeClassifier()\n",
        "#now time for training data\n",
        "trained=clf.fit(features,label)\n",
        "#now predicting\n",
        "trained.predict([[130,1]])\n"
      ],
      "execution_count": 6,
      "outputs": [
        {
          "output_type": "execute_result",
          "data": {
            "text/plain": [
              "array(['orange'], dtype='<U6')"
            ]
          },
          "metadata": {
            "tags": []
          },
          "execution_count": 6
        }
      ]
    },
    {
      "cell_type": "code",
      "metadata": {
        "id": "n8Yv5_-vrmxY",
        "colab_type": "code",
        "colab": {}
      },
      "source": [
        ""
      ],
      "execution_count": 0,
      "outputs": []
    }
  ]
}